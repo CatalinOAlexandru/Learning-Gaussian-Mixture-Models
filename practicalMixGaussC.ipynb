{
  "nbformat": 4,
  "nbformat_minor": 0,
  "metadata": {
    "kernelspec": {
      "display_name": "Python 3",
      "language": "python",
      "name": "python3"
    },
    "language_info": {
      "codemirror_mode": {
        "name": "ipython",
        "version": 3
      },
      "file_extension": ".py",
      "mimetype": "text/x-python",
      "name": "python",
      "nbconvert_exporter": "python",
      "pygments_lexer": "ipython3",
      "version": "3.7.4"
    },
    "colab": {
      "name": "practicalMixGaussC.ipynb",
      "provenance": [],
      "collapsed_sections": []
    }
  },
  "cells": [
    {
      "cell_type": "markdown",
      "metadata": {
        "id": "9i_fSQAEIXy5"
      },
      "source": [
        "# practicalMixGaussC\n",
        "\n",
        "The goal of this part of the lab is to fit a mixture of gaussians model to some multi-dimensional data. To do this, we will first generate some data from a known mixture of gaussians model and fit our own mixture of gaussians model to the generated data. The parameters from our estimated mixture of gaussians model should roughly match those of the original known model. \n",
        "\n",
        "Note that you should not use multivariate_normal.pdf for calculating likelihood.\n",
        "\n",
        "You should use this template for your code and fill in the missing \n",
        "sections marked \"TO DO.\"\n",
        "\n"
      ]
    },
    {
      "cell_type": "code",
      "metadata": {
        "id": "sCAwUnTJIXy7"
      },
      "source": [
        "import os \n",
        "import numpy as np\n",
        "import matplotlib.pyplot as plt\n",
        "import scipy.io as spio\n",
        "from scipy.stats import norm \n",
        "from scipy.stats import multivariate_normal\n",
        "import time\n",
        "import sys\n",
        "\n",
        "flt_min = sys.float_info.min\n",
        "\n",
        "%matplotlib notebook"
      ],
      "execution_count": 1,
      "outputs": []
    },
    {
      "cell_type": "markdown",
      "metadata": {
        "collapsed": true,
        "id": "qExI_oe0IXy8"
      },
      "source": [
        "## Construct Ground Truth Mixture of Gaussians Model and Plot Some Points\n",
        "\n",
        "Define some true parameters for our ground truth mixture of $k$ Gaussians model. We will represent the \n",
        "mixtures of Gaussians as a python dictionary. The mean field is a $d \\times k$ matrix and the cov field is a \n",
        "$d \\times d \\times k$ matrix."
      ]
    },
    {
      "cell_type": "code",
      "metadata": {
        "id": "723r-pFDIXy8"
      },
      "source": [
        "mixGaussTrue = dict()\n",
        "mixGaussTrue['k'] = 3\n",
        "mixGaussTrue['d'] = 2\n",
        "mixGaussTrue['weight'] = np.array([0.1309, 0.3966, 0.4725])\n",
        "mixGaussTrue['mean'] = np.array([[ 4.0491 , 4.8597],[ 7.7578 , 1.6335],[ 11.9945, 8.9206]]).T\n",
        "mixGaussTrue['cov'] = np.reshape([0.5, 0.25], newshape=(1,1,2))\n",
        "mixGaussTrue['cov'] = np.zeros(shape=(mixGaussTrue['d'],mixGaussTrue['d'],mixGaussTrue['k']))\n",
        "mixGaussTrue['cov'][:,:,0] = np.array([[  4.2534, 0.4791], [0.4791, 0.3522]])\n",
        "mixGaussTrue['cov'][:,:,1] = np.array([[  0.9729, 0.8723],[  0.8723,  2.6317]])\n",
        "mixGaussTrue['cov'][:,:,2] = np.array([[  0.9886, -1.2244],[ -1.2244, 3.0187]])"
      ],
      "execution_count": 2,
      "outputs": []
    },
    {
      "cell_type": "markdown",
      "metadata": {
        "collapsed": true,
        "id": "HwvmJH3ZIXy8"
      },
      "source": [
        "**drawEMData2d**, **sampleFromDiscrete**, **getGaussian2SD**, and **drawGaussianOutline** are helper functions."
      ]
    },
    {
      "cell_type": "code",
      "metadata": {
        "scrolled": true,
        "id": "Iyo47HM8IXy8"
      },
      "source": [
        "def sampleFromDiscrete(probDist):     \n",
        "    \"\"\"\n",
        "    Draws a random sample from a discrete probability distribution using a rejection sampling method.  \n",
        "    \n",
        "    Keyword arguments:\n",
        "    probDist -- discrete probability ditrubtion to sample from.\n",
        "    \n",
        "    Returns: \n",
        "    r -- sampled point.\n",
        "    \"\"\"\n",
        "    nIndex = len(probDist)                                                                 \n",
        "    while True:                                                                            \n",
        "        #choose random index                                                               \n",
        "        r=int(np.floor(np.random.uniform()*nIndex))                                        \n",
        "        #choose random height                                                              \n",
        "        randHeight = np.random.uniform()                                                   \n",
        "        #if height is less than probability value at this point in the                     \n",
        "        # histogram then select                                                            \n",
        "        if randHeight<probDist[r]:                                                         \n",
        "            break                                                                          \n",
        "    return r                                                                               "
      ],
      "execution_count": 3,
      "outputs": []
    },
    {
      "cell_type": "code",
      "metadata": {
        "id": "9OkmmQhdIXy8"
      },
      "source": [
        "def getGaussian2SD(m,s,angle1):\n",
        "    \"\"\"\n",
        "    Find position of in xy co-ordinates at 2SD out for a certain angle.\n",
        "    \"\"\"\n",
        "  \n",
        "    if s.shape[1] == 1:\n",
        "        s = diag(s)\n",
        "\n",
        "    vec = np.array([np.cos(angle1), np.sin(angle1)])\n",
        "    \n",
        "    factor = 4/(vec@np.linalg.inv(s)@vec.T)\n",
        "    \n",
        "    x = np.cos(angle1) * np.sqrt(factor)\n",
        "    y = np.sin(angle1) * np.sqrt(factor)\n",
        "\n",
        "    x = x + m[0]\n",
        "    y = y + m[1]\n",
        "                \n",
        "    return x,y"
      ],
      "execution_count": 4,
      "outputs": []
    },
    {
      "cell_type": "code",
      "metadata": {
        "id": "bTqeSxt5IXy8"
      },
      "source": [
        "def drawGaussianOutline(m,s,w):\n",
        "    \"\"\"\n",
        "    Draw 2DGaussian\n",
        "    \"\"\"\n",
        "    angleInc = 0.1    \n",
        "    c = (0.9*(1-w), 0, 0)\n",
        "\n",
        "    for cAngle in np.arange(0,2*np.pi,angleInc):         \n",
        "        angle1 = cAngle\n",
        "        angle2 = cAngle+angleInc\n",
        "        x1, y1 = getGaussian2SD(m,s,angle1)\n",
        "        x2, y2 = getGaussian2SD(m,s,angle2)\n",
        "        plt.plot([x1, x2],[y1, y2],'-',linewidth=2,color=c)                 \n",
        "    return"
      ],
      "execution_count": 5,
      "outputs": []
    },
    {
      "cell_type": "code",
      "metadata": {
        "id": "zP5OjnpnIXy8"
      },
      "source": [
        "def drawEMData2d(data,mixGauss):\n",
        "    \"\"\"\n",
        "    Plot the data plot the mixtures of Gaussian model, mixGauss, on top of it.\n",
        "    \n",
        "    Keyword arguments:\n",
        "    data -- d by n matrix of data points.\n",
        "    mixGauss -- dict with mixture of gaussian information.\n",
        "    \n",
        "    \"\"\"\n",
        "    #set(gcf,'Color',[1 1 1])\n",
        "    plt.cla() \n",
        "    plt.plot(data[0,:],data[1,:],'k.')\n",
        "\n",
        "    for cGauss in range(mixGauss['k']):\n",
        "        drawGaussianOutline(mixGauss['mean'][:,cGauss],mixGauss['cov'][:,:,cGauss],mixGauss['weight'][cGauss])\n",
        "    \n",
        "    return     \n"
      ],
      "execution_count": 6,
      "outputs": []
    },
    {
      "cell_type": "markdown",
      "metadata": {
        "id": "JW2FOaBAIXy8"
      },
      "source": [
        "**TODO H HERE:**\n",
        "\n",
        "Complete the TO DO in this function before moving on."
      ]
    },
    {
      "cell_type": "code",
      "metadata": {
        "id": "rlMWBYHLIXy8"
      },
      "source": [
        "def mixGaussGen(mixGauss, nData):                                                                              \n",
        "    \"\"\"\n",
        "    Generates data from a d-dimensional mixture of Gaussians model. \n",
        "    \n",
        "    Keyword arguments:\n",
        "    mixGauss -- dict containing the mixture of gaussians arguments.\n",
        "    nData -- number of data points to generate.\n",
        "    \n",
        "    Returns: \n",
        "    data -- d by nData, generated data points. \n",
        "    \n",
        "    \"\"\"\n",
        "    # create space for output data                                                                               \n",
        "    data = np.zeros(shape=(mixGauss['d'], nData))                                                                            \n",
        "    # for each data point                                                                                        \n",
        "    for cData in range(nData):                                                                                   \n",
        "        # randomly choose Gaussian according to probability distributions                                        \n",
        "        h = sampleFromDiscrete(mixGauss['weight'])                                                               \n",
        "        # draw a sample from the appropriate Gaussian distribution  \n",
        "        # first sample from the covariance matrix (google how to do this - it\n",
        "        # will involve the numpy function np.linalg.cholesky().  Then add the mean vector\n",
        "        sample = np.linalg.cholesky(mixGauss['cov'][:,:,h])\n",
        "        mean = mixGauss['mean'][:,h]\n",
        "\n",
        "        # TO DO (h)- insert data generation code here                                                                               \n",
        "        # placeholder = -1 # remove this palceholder when you do.        \n",
        "\n",
        "        rand = np.dot(sample,np.random.randn(len(data),))\n",
        "        data[:,cData] = mean + rand                                                          \n",
        "    return data"
      ],
      "execution_count": 7,
      "outputs": []
    },
    {
      "cell_type": "markdown",
      "metadata": {
        "id": "7EnlD8AvIXy8"
      },
      "source": [
        "With all the helper functions complete, we can now generate and plot some points from our model. The black points are the generated data points. The circles are what the gaussians look like."
      ]
    },
    {
      "cell_type": "code",
      "metadata": {
        "colab": {
          "base_uri": "https://localhost:8080/",
          "height": 285
        },
        "id": "NQYihQ0xIXy9",
        "outputId": "2fbd47f7-8c85-4f1f-9b68-8252ffdb8a88"
      },
      "source": [
        "#define number of samples to generate\n",
        "nData = 400;\n",
        "\n",
        "#generate data from the mixture of Gaussians\n",
        "#make sure you've filled in the routine above.\n",
        "data = mixGaussGen(mixGaussTrue,nData)\n",
        "print(data.shape)\n",
        "#draw data, true Gaussians\n",
        "drawEMData2d(data,mixGaussTrue)"
      ],
      "execution_count": 8,
      "outputs": [
        {
          "output_type": "stream",
          "text": [
            "(2, 400)\n"
          ],
          "name": "stdout"
        },
        {
          "output_type": "display_data",
          "data": {
            "image/png": "[encoded data removed]",
            "text/plain": [
              "<Figure size 432x288 with 1 Axes>"
            ]
          },
          "metadata": {
            "tags": [],
            "needs_background": "light"
          }
        }
      ]
    },
    {
      "cell_type": "markdown",
      "metadata": {
        "id": "ry3B6qJtnXQ6"
      },
      "source": [
        "The graph shows how close my the data samples will fit the gaussian distributions in 2D with oval shapes as we seen in the lectures."
      ]
    },
    {
      "cell_type": "markdown",
      "metadata": {
        "collapsed": true,
        "id": "YzUCzkB2IXy9"
      },
      "source": [
        "## Estimate MoG using the E-M Algorithm\n",
        "Here we want to use the E-M algorithm to fit a MoG model to our data points. \n",
        "\n",
        "**TODO I HERE:** \n",
        "\n",
        "Fill out the missing parts below. \n",
        "\n",
        "The log likelihood is taken since the raw likelihood value could be too small for our machine's percision."
      ]
    },
    {
      "cell_type": "code",
      "metadata": {
        "id": "NxjHjJ2aDMd0"
      },
      "source": [
        "def calcGaussianProb(data,gaussMean,gaussCov):\n",
        "    \"\"\"\n",
        "    Returns the likelihood that each data point in data belongs to the Gaussian described by gaussMean and \n",
        "    gaussCov.\n",
        "    \n",
        "    Keyword arguments:\n",
        "    data -- d by n matrix of data points. d is the number of dimensions and n is the number of data points.\n",
        "    gaussMean -- d by 1 vector containing the mean parameter of the Gaussian distribution.\n",
        "    gaussCov -- d by d matrix containing the covariance parameters of the Gaussian distribution.\n",
        "    \n",
        "    Returns: \n",
        "    like -- 1 by n vector contianing the likelihood that each data point in data belongs to the Gaussian \n",
        "    distribution defined by gaussMean and gaussCov.\n",
        "    \"\"\"\n",
        "    nDim = data.shape[0]\n",
        "    \n",
        "    #TO DO (b) - fill in this routine, replace the placeholders for like with the actual equation.\n",
        "    \n",
        "    like = 1/((2*np.pi)**(nDim/2)*np.linalg.det(gaussCov)**0.5)*np.exp(-0.5*np.transpose(data-gaussMean)@np.linalg.pinv(gaussCov)@(data-gaussMean))\n",
        "    return like"
      ],
      "execution_count": 9,
      "outputs": []
    },
    {
      "cell_type": "code",
      "metadata": {
        "id": "JYm8RW8cIXy9"
      },
      "source": [
        "def getMixGaussLogLike(data, mixGaussEst): \n",
        "    \"\"\"\n",
        "    Calculate the log likelihood for the whole dataset under a mixture of Gaussians model.\n",
        "    \n",
        "    Keyword arguments:\n",
        "    data -- d by n matrix containing data points.\n",
        "    mixGaussEst -- dict containing the mixture of gaussians parameters.\n",
        "\n",
        "    Returns: \n",
        "    logLike -- scalar containing the log likelihood.\n",
        "    \n",
        "    \"\"\"\n",
        "    \n",
        "    data = np.atleast_2d(data)                                                                         \n",
        "    # find total number of data items                                                                  \n",
        "    nDims, nData = data.shape                                                                          \n",
        "    \n",
        "    # initialize log likelihoods                                                                       \n",
        "    logLike = 0;                                                                                       \n",
        "                                                                                                       \n",
        "    # run through each data item                                                                       \n",
        "    for cData in range(nData):                                                                         \n",
        "        thisData = data[:, cData]                                                                      \n",
        "        # TO DO (i)- calculate likelihood of this data point under mixture of                         \n",
        "        # Gaussians model. Replace this                                                                \n",
        "        like = 0\n",
        "        for i in range(mixGaussEst['k']):\n",
        "          # a = mixGaussEst['weight'][i]\n",
        "          # b = likelihood(thisData,mixGaussEst['cov'][:,:,i],mixGaussEst['mean'][:,i])\n",
        "          # like += a*b\n",
        "\n",
        "          like += mixGaussEst['weight'][i]*calcGaussianProb(thisData,mixGaussEst['mean'][:,i],mixGaussEst['cov'][:,:,i])\n",
        "        \n",
        "        # add to total log like                                                                        \n",
        "        logLike = logLike + np.log(like)                                                               \n",
        "                                                                                                       \n",
        "    return  np.asscalar(logLike)                                                                       \n",
        "                                                                                                       "
      ],
      "execution_count": 10,
      "outputs": []
    },
    {
      "cell_type": "markdown",
      "metadata": {
        "collapsed": true,
        "id": "LQVDo-0mIXy9"
      },
      "source": [
        "**TODO J HERE:** \n",
        "\n",
        "Fill out the missing parts below. "
      ]
    },
    {
      "cell_type": "code",
      "metadata": {
        "id": "IH0b5MqwIXy9"
      },
      "source": [
        "def fitMixGauss(data, k):\n",
        "    \"\"\"\n",
        "    Estimate a k MoG model that would fit the data. Incremently plots the outcome.\n",
        "               \n",
        "    \n",
        "    Keyword arguments:\n",
        "    data -- d by n matrix containing data points.\n",
        "    k -- scalar representing the number of gaussians to use in the MoG model.\n",
        "    \n",
        "    Returns: \n",
        "    mixGaussEst -- dict containing the estimated MoG parameters.\n",
        "    \n",
        "    \"\"\"\n",
        "    \n",
        "    #     MAIN E-M ROUTINE  \n",
        "    #     In the E-M algorithm, we calculate a complete posterior distribution over                                  \n",
        "    #     the (nData) hidden variables in the E-Step.  \n",
        "    #     In the M-Step, we update the parameters of the Gaussians (mean, cov, w).   \n",
        "    \n",
        "    nDims, nData = data.shape\n",
        "\n",
        "\n",
        "    postHidden = np.zeros(shape=(k, nData))\n",
        "\n",
        "    # we will initialize the values to random values\n",
        "    mixGaussEst = dict()\n",
        "    mixGaussEst['d'] = nDims\n",
        "    mixGaussEst['k'] = k\n",
        "    mixGaussEst['weight'] = (1 / k) * np.ones(shape=(k))\n",
        "    mixGaussEst['mean'] = 2 * np.random.randn(nDims, k)\n",
        "    mixGaussEst['cov'] = np.zeros(shape=(nDims, nDims, k))\n",
        "    for cGauss in range(k):\n",
        "        mixGaussEst['cov'][:, :, cGauss] = 2.5 + 1.5 * np.random.uniform() * np.eye(nDims)\n",
        "        \n",
        "\n",
        "    # calculate current likelihood\n",
        "    # TO DO - fill in this routine\n",
        "    logLike = getMixGaussLogLike(data, mixGaussEst)\n",
        "    print('Log Likelihood Iter 0 : {:4.3f}\\n'.format(logLike))\n",
        "\n",
        "    nIter = 30;\n",
        "\n",
        "    logLikeVec = np.zeros(shape=(2 * nIter))\n",
        "    boundVec = np.zeros(shape=(2 * nIter))\n",
        "\n",
        "    fig, ax = plt.subplots(1, 1)\n",
        "\n",
        "    for cIter in range(nIter):\n",
        "\n",
        "        # ===================== =====================\n",
        "        # Expectation step\n",
        "        # ===================== =====================\n",
        "\n",
        "        for cData in range(nData):\n",
        "            # TO DO (g) : fill in column of 'hidden' - calculate posterior probability that\n",
        "            # this data point came from each of the Gaussians\n",
        "            # replace this:\n",
        "            \n",
        "            # data is a d x 1 matrix\n",
        "            thisData = data[:, cData] \n",
        "\n",
        "            for i in range(mixGaussEst['k']):\n",
        "                postHidden[i, cData] = mixGaussEst['weight'][i]*calcGaussianProb(thisData,mixGaussEst['mean'][:,i],mixGaussEst['cov'][:,:,i])\n",
        " \n",
        "            postHidden[:, cData] = postHidden[:, cData]/np.sum(postHidden[:,cData])\n",
        "\n",
        "        # ===================== =====================\n",
        "        # Maximization Step\n",
        "        # ===================== =====================\n",
        "        # for each constituent Gaussian\n",
        "        for cGauss in range(k):\n",
        "            # TO DO (h):  Update weighting parameters mixGauss.weight based on the total\n",
        "            # posterior probability associated with each Gaussian. Replace this:\n",
        "            mixGaussEst['weight'][cGauss] = np.sum(postHidden[cGauss,:])/np.sum(postHidden)\n",
        "\n",
        "            # TO DO (i):  Update mean parameters mixGauss.mean by weighted average\n",
        "            # where weights are given by posterior probability associated with\n",
        "            # Gaussian.  Replace this:\n",
        "\n",
        "            mixGaussEst['mean'][:,cGauss] = (postHidden[cGauss,:].reshape(1,nData) @ np.transpose(data))/ np.sum(postHidden[cGauss,:])\n",
        "            \n",
        "            \n",
        "            # TO DO (j):  Update covarance parameter based on weighted average of\n",
        "            # square distance from update mean, where weights are given by\n",
        "            # posterior probability associated with Gaussian\n",
        "\n",
        "            dataMinusMu = np.zeros((nDims,nData)) # dxn\n",
        "            for d in range(nDims):\n",
        "                dataMinusMu[d,:] = data[d,:]- mixGaussEst['mean'][d,cGauss]\n",
        "            sumDist = np.zeros((nDims,nDims))\n",
        "            for i in range(nData):\n",
        "                sumDist += postHidden[cGauss,i]*dataMinusMu[:,i].reshape(nDims,1)@np.transpose(dataMinusMu[:,i].reshape(nDims,1))\n",
        "\n",
        "            # Normalize\n",
        "            mixGaussEst['cov'][:,:,cGauss] = sumDist / np.sum(postHidden[cGauss,:]) \n",
        "            \n",
        "            if cGauss > 0:\n",
        "                for index in range(cGauss):\n",
        "                    for row in range(mixGaussEst['cov'][:,:,index].shape[0]):\n",
        "                        for col in range(mixGaussEst['cov'][:,:,index].shape[1]):\n",
        "                        \n",
        "                            if mixGaussEst['cov'][row,col,index] / mixGaussEst['cov'][row,col,cGauss]>40 :\n",
        "                                    mixGaussEst['cov'][:,:,index] = mixGaussEst['cov'][:,:,index]*0.7\n",
        "                                    mixGaussEst['cov'][:,:,cGauss] = mixGaussEst['cov'][:,:,cGauss]*1.2\n",
        " \n",
        "                            if mixGaussEst['cov'][row,col,cGauss] / mixGaussEst['cov'][row,col,index] > 40:\n",
        "                                    mixGaussEst['cov'][:,:,cGauss] = mixGaussEst['cov'][:,:,cGauss]*0.7\n",
        "                                    mixGaussEst['cov'][:,:,index] = mixGaussEst['cov'][:,:,index]*1.2\n",
        "                                   \n",
        "\n",
        "                            \n",
        "    \n",
        "        # draw the new solution\n",
        "        drawEMData2d(data, mixGaussEst)\n",
        "        time.sleep(0.7)\n",
        "        fig.canvas.draw()\n",
        "\n",
        "        # calculate the log likelihood\n",
        "        logLike = getMixGaussLogLike(data, mixGaussEst)\n",
        "        print('Log Likelihood After Iter {} : {:4.3f}\\n'.format(cIter, logLike))\n",
        "\n",
        "    return mixGaussEst"
      ],
      "execution_count": 11,
      "outputs": []
    },
    {
      "cell_type": "markdown",
      "metadata": {
        "id": "iJ3gk65CIXy9"
      },
      "source": [
        "### Time to put it all together!\n",
        "\n",
        "Make sure you've filled all the TO DOs above! "
      ]
    },
    {
      "cell_type": "code",
      "metadata": {
        "id": "B9L89J5NIXy9",
        "colab": {
          "base_uri": "https://localhost:8080/",
          "height": 1000
        },
        "outputId": "78934faf-49ae-46fc-9260-9b282281da30"
      },
      "source": [
        "#define number of components to estimate\n",
        "nGaussEst = 3\n",
        "\n",
        "#fit mixture of Gaussians (Pretend someone handed you some data. Now what?)\n",
        "#TO DO fill in this routine (below)\n",
        "mixGaussEst = fitMixGauss(data,nGaussEst);\n",
        "drawEMData2d(data, mixGaussEst)"
      ],
      "execution_count": 12,
      "outputs": [
        {
          "output_type": "stream",
          "text": [
            "/usr/local/lib/python3.7/dist-packages/ipykernel_launcher.py:37: DeprecationWarning: np.asscalar(a) is deprecated since NumPy v1.16, use a.item() instead\n"
          ],
          "name": "stderr"
        },
        {
          "output_type": "stream",
          "text": [
            "Log Likelihood Iter 0 : -6894.561\n",
            "\n"
          ],
          "name": "stdout"
        },
        {
          "output_type": "stream",
          "text": [
            "/usr/local/lib/python3.7/dist-packages/ipykernel_launcher.py:37: DeprecationWarning: np.asscalar(a) is deprecated since NumPy v1.16, use a.item() instead\n"
          ],
          "name": "stderr"
        },
        {
          "output_type": "stream",
          "text": [
            "Log Likelihood After Iter 0 : -1913.716\n",
            "\n"
          ],
          "name": "stdout"
        },
        {
          "output_type": "stream",
          "text": [
            "/usr/local/lib/python3.7/dist-packages/ipykernel_launcher.py:37: DeprecationWarning: np.asscalar(a) is deprecated since NumPy v1.16, use a.item() instead\n"
          ],
          "name": "stderr"
        },
        {
          "output_type": "stream",
          "text": [
            "Log Likelihood After Iter 1 : -1906.536\n",
            "\n"
          ],
          "name": "stdout"
        },
        {
          "output_type": "stream",
          "text": [
            "/usr/local/lib/python3.7/dist-packages/ipykernel_launcher.py:37: DeprecationWarning: np.asscalar(a) is deprecated since NumPy v1.16, use a.item() instead\n"
          ],
          "name": "stderr"
        },
        {
          "output_type": "stream",
          "text": [
            "Log Likelihood After Iter 2 : -1888.694\n",
            "\n"
          ],
          "name": "stdout"
        },
        {
          "output_type": "stream",
          "text": [
            "/usr/local/lib/python3.7/dist-packages/ipykernel_launcher.py:37: DeprecationWarning: np.asscalar(a) is deprecated since NumPy v1.16, use a.item() instead\n"
          ],
          "name": "stderr"
        },
        {
          "output_type": "stream",
          "text": [
            "Log Likelihood After Iter 3 : -1872.599\n",
            "\n"
          ],
          "name": "stdout"
        },
        {
          "output_type": "stream",
          "text": [
            "/usr/local/lib/python3.7/dist-packages/ipykernel_launcher.py:37: DeprecationWarning: np.asscalar(a) is deprecated since NumPy v1.16, use a.item() instead\n"
          ],
          "name": "stderr"
        },
        {
          "output_type": "stream",
          "text": [
            "Log Likelihood After Iter 4 : -1853.417\n",
            "\n"
          ],
          "name": "stdout"
        },
        {
          "output_type": "stream",
          "text": [
            "/usr/local/lib/python3.7/dist-packages/ipykernel_launcher.py:37: DeprecationWarning: np.asscalar(a) is deprecated since NumPy v1.16, use a.item() instead\n"
          ],
          "name": "stderr"
        },
        {
          "output_type": "stream",
          "text": [
            "Log Likelihood After Iter 5 : -1831.356\n",
            "\n"
          ],
          "name": "stdout"
        },
        {
          "output_type": "stream",
          "text": [
            "/usr/local/lib/python3.7/dist-packages/ipykernel_launcher.py:37: DeprecationWarning: np.asscalar(a) is deprecated since NumPy v1.16, use a.item() instead\n"
          ],
          "name": "stderr"
        },
        {
          "output_type": "stream",
          "text": [
            "Log Likelihood After Iter 6 : -1800.876\n",
            "\n"
          ],
          "name": "stdout"
        },
        {
          "output_type": "stream",
          "text": [
            "/usr/local/lib/python3.7/dist-packages/ipykernel_launcher.py:37: DeprecationWarning: np.asscalar(a) is deprecated since NumPy v1.16, use a.item() instead\n"
          ],
          "name": "stderr"
        },
        {
          "output_type": "stream",
          "text": [
            "Log Likelihood After Iter 7 : -1761.646\n",
            "\n"
          ],
          "name": "stdout"
        },
        {
          "output_type": "stream",
          "text": [
            "/usr/local/lib/python3.7/dist-packages/ipykernel_launcher.py:37: DeprecationWarning: np.asscalar(a) is deprecated since NumPy v1.16, use a.item() instead\n"
          ],
          "name": "stderr"
        },
        {
          "output_type": "stream",
          "text": [
            "Log Likelihood After Iter 8 : -1745.754\n",
            "\n"
          ],
          "name": "stdout"
        },
        {
          "output_type": "stream",
          "text": [
            "/usr/local/lib/python3.7/dist-packages/ipykernel_launcher.py:37: DeprecationWarning: np.asscalar(a) is deprecated since NumPy v1.16, use a.item() instead\n"
          ],
          "name": "stderr"
        },
        {
          "output_type": "stream",
          "text": [
            "Log Likelihood After Iter 9 : -1704.611\n",
            "\n"
          ],
          "name": "stdout"
        },
        {
          "output_type": "stream",
          "text": [
            "/usr/local/lib/python3.7/dist-packages/ipykernel_launcher.py:37: DeprecationWarning: np.asscalar(a) is deprecated since NumPy v1.16, use a.item() instead\n"
          ],
          "name": "stderr"
        },
        {
          "output_type": "stream",
          "text": [
            "Log Likelihood After Iter 10 : -1675.187\n",
            "\n"
          ],
          "name": "stdout"
        },
        {
          "output_type": "stream",
          "text": [
            "/usr/local/lib/python3.7/dist-packages/ipykernel_launcher.py:37: DeprecationWarning: np.asscalar(a) is deprecated since NumPy v1.16, use a.item() instead\n"
          ],
          "name": "stderr"
        },
        {
          "output_type": "stream",
          "text": [
            "Log Likelihood After Iter 11 : -1637.272\n",
            "\n"
          ],
          "name": "stdout"
        },
        {
          "output_type": "stream",
          "text": [
            "/usr/local/lib/python3.7/dist-packages/ipykernel_launcher.py:37: DeprecationWarning: np.asscalar(a) is deprecated since NumPy v1.16, use a.item() instead\n"
          ],
          "name": "stderr"
        },
        {
          "output_type": "stream",
          "text": [
            "Log Likelihood After Iter 12 : -1595.226\n",
            "\n"
          ],
          "name": "stdout"
        },
        {
          "output_type": "stream",
          "text": [
            "/usr/local/lib/python3.7/dist-packages/ipykernel_launcher.py:37: DeprecationWarning: np.asscalar(a) is deprecated since NumPy v1.16, use a.item() instead\n"
          ],
          "name": "stderr"
        },
        {
          "output_type": "stream",
          "text": [
            "Log Likelihood After Iter 13 : -1573.861\n",
            "\n"
          ],
          "name": "stdout"
        },
        {
          "output_type": "stream",
          "text": [
            "/usr/local/lib/python3.7/dist-packages/ipykernel_launcher.py:37: DeprecationWarning: np.asscalar(a) is deprecated since NumPy v1.16, use a.item() instead\n"
          ],
          "name": "stderr"
        },
        {
          "output_type": "stream",
          "text": [
            "Log Likelihood After Iter 14 : -1573.214\n",
            "\n"
          ],
          "name": "stdout"
        },
        {
          "output_type": "stream",
          "text": [
            "/usr/local/lib/python3.7/dist-packages/ipykernel_launcher.py:37: DeprecationWarning: np.asscalar(a) is deprecated since NumPy v1.16, use a.item() instead\n"
          ],
          "name": "stderr"
        },
        {
          "output_type": "stream",
          "text": [
            "Log Likelihood After Iter 15 : -1573.189\n",
            "\n"
          ],
          "name": "stdout"
        },
        {
          "output_type": "stream",
          "text": [
            "/usr/local/lib/python3.7/dist-packages/ipykernel_launcher.py:37: DeprecationWarning: np.asscalar(a) is deprecated since NumPy v1.16, use a.item() instead\n"
          ],
          "name": "stderr"
        },
        {
          "output_type": "stream",
          "text": [
            "Log Likelihood After Iter 16 : -1573.179\n",
            "\n"
          ],
          "name": "stdout"
        },
        {
          "output_type": "stream",
          "text": [
            "/usr/local/lib/python3.7/dist-packages/ipykernel_launcher.py:37: DeprecationWarning: np.asscalar(a) is deprecated since NumPy v1.16, use a.item() instead\n"
          ],
          "name": "stderr"
        },
        {
          "output_type": "stream",
          "text": [
            "Log Likelihood After Iter 17 : -1573.175\n",
            "\n"
          ],
          "name": "stdout"
        },
        {
          "output_type": "stream",
          "text": [
            "/usr/local/lib/python3.7/dist-packages/ipykernel_launcher.py:37: DeprecationWarning: np.asscalar(a) is deprecated since NumPy v1.16, use a.item() instead\n"
          ],
          "name": "stderr"
        },
        {
          "output_type": "stream",
          "text": [
            "Log Likelihood After Iter 18 : -1573.172\n",
            "\n"
          ],
          "name": "stdout"
        },
        {
          "output_type": "stream",
          "text": [
            "/usr/local/lib/python3.7/dist-packages/ipykernel_launcher.py:37: DeprecationWarning: np.asscalar(a) is deprecated since NumPy v1.16, use a.item() instead\n"
          ],
          "name": "stderr"
        },
        {
          "output_type": "stream",
          "text": [
            "Log Likelihood After Iter 19 : -1573.171\n",
            "\n"
          ],
          "name": "stdout"
        },
        {
          "output_type": "stream",
          "text": [
            "/usr/local/lib/python3.7/dist-packages/ipykernel_launcher.py:37: DeprecationWarning: np.asscalar(a) is deprecated since NumPy v1.16, use a.item() instead\n"
          ],
          "name": "stderr"
        },
        {
          "output_type": "stream",
          "text": [
            "Log Likelihood After Iter 20 : -1573.171\n",
            "\n"
          ],
          "name": "stdout"
        },
        {
          "output_type": "stream",
          "text": [
            "/usr/local/lib/python3.7/dist-packages/ipykernel_launcher.py:37: DeprecationWarning: np.asscalar(a) is deprecated since NumPy v1.16, use a.item() instead\n"
          ],
          "name": "stderr"
        },
        {
          "output_type": "stream",
          "text": [
            "Log Likelihood After Iter 21 : -1573.171\n",
            "\n"
          ],
          "name": "stdout"
        },
        {
          "output_type": "stream",
          "text": [
            "/usr/local/lib/python3.7/dist-packages/ipykernel_launcher.py:37: DeprecationWarning: np.asscalar(a) is deprecated since NumPy v1.16, use a.item() instead\n"
          ],
          "name": "stderr"
        },
        {
          "output_type": "stream",
          "text": [
            "Log Likelihood After Iter 22 : -1573.171\n",
            "\n"
          ],
          "name": "stdout"
        },
        {
          "output_type": "stream",
          "text": [
            "/usr/local/lib/python3.7/dist-packages/ipykernel_launcher.py:37: DeprecationWarning: np.asscalar(a) is deprecated since NumPy v1.16, use a.item() instead\n"
          ],
          "name": "stderr"
        },
        {
          "output_type": "stream",
          "text": [
            "Log Likelihood After Iter 23 : -1573.171\n",
            "\n"
          ],
          "name": "stdout"
        },
        {
          "output_type": "stream",
          "text": [
            "/usr/local/lib/python3.7/dist-packages/ipykernel_launcher.py:37: DeprecationWarning: np.asscalar(a) is deprecated since NumPy v1.16, use a.item() instead\n"
          ],
          "name": "stderr"
        },
        {
          "output_type": "stream",
          "text": [
            "Log Likelihood After Iter 24 : -1573.171\n",
            "\n"
          ],
          "name": "stdout"
        },
        {
          "output_type": "stream",
          "text": [
            "/usr/local/lib/python3.7/dist-packages/ipykernel_launcher.py:37: DeprecationWarning: np.asscalar(a) is deprecated since NumPy v1.16, use a.item() instead\n"
          ],
          "name": "stderr"
        },
        {
          "output_type": "stream",
          "text": [
            "Log Likelihood After Iter 25 : -1573.170\n",
            "\n"
          ],
          "name": "stdout"
        },
        {
          "output_type": "stream",
          "text": [
            "/usr/local/lib/python3.7/dist-packages/ipykernel_launcher.py:37: DeprecationWarning: np.asscalar(a) is deprecated since NumPy v1.16, use a.item() instead\n"
          ],
          "name": "stderr"
        },
        {
          "output_type": "stream",
          "text": [
            "Log Likelihood After Iter 26 : -1573.170\n",
            "\n"
          ],
          "name": "stdout"
        },
        {
          "output_type": "stream",
          "text": [
            "/usr/local/lib/python3.7/dist-packages/ipykernel_launcher.py:37: DeprecationWarning: np.asscalar(a) is deprecated since NumPy v1.16, use a.item() instead\n"
          ],
          "name": "stderr"
        },
        {
          "output_type": "stream",
          "text": [
            "Log Likelihood After Iter 27 : -1573.170\n",
            "\n"
          ],
          "name": "stdout"
        },
        {
          "output_type": "stream",
          "text": [
            "/usr/local/lib/python3.7/dist-packages/ipykernel_launcher.py:37: DeprecationWarning: np.asscalar(a) is deprecated since NumPy v1.16, use a.item() instead\n"
          ],
          "name": "stderr"
        },
        {
          "output_type": "stream",
          "text": [
            "Log Likelihood After Iter 28 : -1573.170\n",
            "\n"
          ],
          "name": "stdout"
        },
        {
          "output_type": "stream",
          "text": [
            "/usr/local/lib/python3.7/dist-packages/ipykernel_launcher.py:37: DeprecationWarning: np.asscalar(a) is deprecated since NumPy v1.16, use a.item() instead\n"
          ],
          "name": "stderr"
        },
        {
          "output_type": "stream",
          "text": [
            "Log Likelihood After Iter 29 : -1573.170\n",
            "\n"
          ],
          "name": "stdout"
        },
        {
          "output_type": "display_data",
          "data": {
            "image/png": "[encoded data removed]",
            "text/plain": [
              "<Figure size 432x288 with 1 Axes>"
            ]
          },
          "metadata": {
            "tags": [],
            "needs_background": "light"
          }
        }
      ]
    }
  ]
}