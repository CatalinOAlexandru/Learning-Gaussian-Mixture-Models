{
  "nbformat": 4,
  "nbformat_minor": 0,
  "metadata": {
    "kernelspec": {
      "display_name": "Python 3",
      "language": "python",
      "name": "python3"
    },
    "language_info": {
      "codemirror_mode": {
        "name": "ipython",
        "version": 3
      },
      "file_extension": ".py",
      "mimetype": "text/x-python",
      "name": "python",
      "nbconvert_exporter": "python",
      "pygments_lexer": "ipython3",
      "version": "3.7.4"
    },
    "colab": {
      "name": "practicalMixGaussB.ipynb",
      "provenance": [],
      "collapsed_sections": []
    }
  },
  "cells": [
    {
      "cell_type": "markdown",
      "metadata": {
        "id": "VBxRL3CXcHSp"
      },
      "source": [
        "# practicalMixGaussB\n",
        "\n",
        "The goal of this part of the lab is to fit a mixture of gaussians model to some one-dimensional data. To do this, we will first generate some data from a known mixture of gaussians model and fit our own mixture of gaussians model to the generated data. The parameters from our estimated mixture of gaussians model should roughly match those of the original known model. \n",
        "\n",
        "You should use this template for your code and fill in the missing \n",
        "sections marked \"TO DO.\"\n",
        "\n",
        "PLEASE NOTE (again): You should NOT be using functions like multivariate_normal.pdf and normfit or any other numpy functions for fitting your distributions in this or further parts of this practical. Optionally, you can try comparing your results to those produced by those functions, but our goal here is to learn what is happening!"
      ]
    },
    {
      "cell_type": "code",
      "metadata": {
        "id": "CXkZ6hVTcHSq"
      },
      "source": [
        "import os \n",
        "import numpy as np\n",
        "import matplotlib.pyplot as plt\n",
        "import scipy.io as spio\n",
        "from scipy.stats import norm \n",
        "import time\n",
        "\n",
        "%matplotlib inline"
      ],
      "execution_count": null,
      "outputs": []
    },
    {
      "cell_type": "markdown",
      "metadata": {
        "id": "8RiAfsbMcHSq"
      },
      "source": [
        "## Construct Ground Truth Mixture of Gaussians Model and Plot Some Points\n",
        "\n",
        "Define some true parameters for our grounf truth mixture of $k$ Gaussians model. We will represent the mixtures of Gaussians as a python dictionary. Not that we are working in one dimension, but if we were to require $d$ dimenisions, the mean field would be a $d \\times k$ matrix and the cov field would be a $d \\times d \\times k$ matrix. "
      ]
    },
    {
      "cell_type": "code",
      "metadata": {
        "id": "nIcoT17gcHSq"
      },
      "source": [
        "mixGaussTrue = dict()\n",
        "mixGaussTrue['k'] = 2 # number of gaussians\n",
        "mixGaussTrue['d'] = 1 # dimension of the data\n",
        "mixGaussTrue['weight'] = np.array([0.3, 0.7]) # weight assigned to each gaussian\n",
        "mixGaussTrue['mean'] = np.array([[-1,1.5]]) # the mean for each gaussian \n",
        "mixGaussTrue['cov'] = np.reshape([0.5, 0.25], newshape=(1,1,2)) # the covariance for each gaussian"
      ],
      "execution_count": null,
      "outputs": []
    },
    {
      "cell_type": "markdown",
      "metadata": {
        "id": "UjueEh_ZcHSq"
      },
      "source": [
        "**getGaussProb**, **sampleFromDiscrete**, and **drawEMData1d** are helper functions. "
      ]
    },
    {
      "cell_type": "code",
      "metadata": {
        "id": "rvnFcDnEcHSq"
      },
      "source": [
        "# subroutine to return gaussian probabilities\n",
        "def getGaussProb(x,mean,var):   \n",
        "    \"\"\"\n",
        "    Returns the likelihood that each data point in x belongs to the Gaussian described by mean and \n",
        "    var.\n",
        "    \n",
        "    Keyword arguments:\n",
        "    x -- 1 by n vector of data points. n is the number of data points.\n",
        "    mean -- scalar containing the mean parameter of the Gaussian distribution.\n",
        "    var -- scalar containing the variance parameter of the Gaussian distribution.\n",
        "    \n",
        "    Returns: \n",
        "    prob -- scalar contianing the likelihood that each data point in data belongs to the Gaussian \n",
        "    distribution defined by mean and var.\n",
        "    \"\"\"\n",
        "    mean = np.squeeze(mean)                                        \n",
        "    var = np.squeeze(var)                                          \n",
        "    prob = np.exp(-0.5*((x-mean)**2)/(var))                        \n",
        "    prob = prob/ np.sqrt(2*np.pi*var)                              \n",
        "    return prob                                                    "
      ],
      "execution_count": null,
      "outputs": []
    },
    {
      "cell_type": "code",
      "metadata": {
        "scrolled": true,
        "id": "D_0td3lncHSq"
      },
      "source": [
        "def sampleFromDiscrete(probDist): \n",
        "    \"\"\"\n",
        "    Draws a random sample from a discrete probability distribution using a rejection sampling method.  \n",
        "    \n",
        "    Keyword arguments:\n",
        "    probDist -- discrete probability ditrubtion to sample from.\n",
        "    \n",
        "    Returns: \n",
        "    r -- sampled point.\n",
        "    \"\"\"\n",
        "\n",
        "    nIndex = len(probDist)                                                                 \n",
        "    while True:                                                                            \n",
        "        #choose random index                                                               \n",
        "        r=int(np.floor(np.random.uniform()*nIndex))                                        \n",
        "        #choose random height                                                              \n",
        "        randHeight = np.random.uniform()                                                   \n",
        "        #if height is less than probability value at this point in the                     \n",
        "        # histogram then select                                                            \n",
        "        if randHeight<probDist[r]:                                                         \n",
        "            break                                                                          \n",
        "    return r                                                                               "
      ],
      "execution_count": null,
      "outputs": []
    },
    {
      "cell_type": "code",
      "metadata": {
        "id": "_QOPf605cHSq"
      },
      "source": [
        "def drawEMData1d(data, mixGauss):\n",
        "    \"\"\"\n",
        "    Draw the data, data, in histogram form and plot the mixtures of Gaussian model, mixGauss, on top of it.\n",
        "    \n",
        "    Keyword arguments:\n",
        "    data -- 1 by n vector of data points.\n",
        "    mixGauss -- dict with mixture of gaussian information.\n",
        "\n",
        "    \"\"\"\n",
        "    # delete previous plot if it exists                                                                   \n",
        "    # hold off;                                                                                           \n",
        "    # bin the data to make a histogram                                                                    \n",
        "                                                                                                          \n",
        "    binWidth = 0.1;                                                                                       \n",
        "    binMin = -4.0;                                                                                        \n",
        "    binMax = 4.0;                                                                                         \n",
        "    nSteps = int(np.ceil((binMax - binMin) / binWidth))                                                   \n",
        "                                                                                                          \n",
        "    nDims, nData = data.shape                                                                             \n",
        "                                                                                                          \n",
        "    xHist = np.linspace(binMin, binMax, nSteps, endpoint=True)                                            \n",
        "    xHistExt = np.append(xHist, np.inf)                                                                   \n",
        "    yHist, _ = np.histogram(data, xHistExt)                                     \n",
        "                                                                                                          \n",
        "    yHist = yHist / (nData * binWidth)                                                                    \n",
        "    plt.cla()                                                                                     \n",
        "    plt.bar(xHist, yHist, binWidth, edgecolor='b')                                                        \n",
        "                                                                                                          \n",
        "    # calculate Gaussian data                                                                             \n",
        "    nGauss = mixGauss['k']                                                                                \n",
        "    gaussEnvEst = np.zeros(xHist.shape)                                                                   \n",
        "    for cGauss in range(nGauss):                                                                          \n",
        "        # calculate weighted Gaussian values                                                              \n",
        "        gaussProb = mixGauss['weight'][cGauss] * getGaussProb(xHist, mixGauss['mean'][:,cGauss],          \n",
        "                                                              mixGauss['cov'][:, :, cGauss])              \n",
        "        plt.plot(xHist, gaussProb, 'm-')  # weighted components of MoG                                    \n",
        "        # add to form envelope                                                                            \n",
        "        gaussEnvEst = gaussEnvEst + gaussProb                                                             \n",
        "                                                                                                          \n",
        "    plt.plot(xHist, gaussEnvEst, 'g-')  # final mixture of Gaussians                                      \n",
        "                                                                                                          \n",
        "    # tidy up plot                                                                                        \n",
        "    plt.xlabel('Data Value')                                                                              \n",
        "    plt.ylabel('Probability Density')                                                                     \n",
        "    # set(gca,'Box','Off');                                                                               \n",
        "    # set(gcf,'Color',[1 1 1]);                                                                           \n",
        "    plt.xlim((binMin, binMax))                                                                            \n",
        "    plt.ylim((0, max(yHist) * 1.5))                                                                       \n",
        "                                                                                                          \n",
        "    return                                                                                                \n",
        "    "
      ],
      "execution_count": null,
      "outputs": []
    },
    {
      "cell_type": "markdown",
      "metadata": {
        "id": "SpyHJZbFcHSq"
      },
      "source": [
        "**TODO D HERE:**\n",
        "\n",
        "Complete the TO DO in this function before moving on. \n",
        "\n"
      ]
    },
    {
      "cell_type": "code",
      "metadata": {
        "id": "bqIz9WSgcHSq"
      },
      "source": [
        "def mixGaussGen1d(mixGauss, nData):  \n",
        "    \"\"\"\n",
        "    Generates data from a one-dimensional mixture of Gaussians model. \n",
        "    \n",
        "    Keyword arguments:\n",
        "    mixGauss -- dict containing the mixture of gaussians arguments.\n",
        "    nData -- number of data points to generate.\n",
        "    \n",
        "    Returns: \n",
        "    data -- 1 by nData, generated data points. \n",
        "    \"\"\"\n",
        "    \n",
        "\n",
        "    # create space for output data                                                                               \n",
        "    data = np.zeros(shape=(1, nData))                                                                            \n",
        "    # for each data point                                                                                        \n",
        "    for cData in range(nData):                                                                                   \n",
        "        # randomly choose Gaussian according to probability distributions                                        \n",
        "        h = sampleFromDiscrete(mixGauss['weight'])                                                               \n",
        "        # draw a sample from the appropriate Gaussian distribution                                               \n",
        "        \n",
        "        # TO DO (d)- replace this \n",
        "        # data[:, cData] = mixGauss['mean'][:,h]\n",
        "\n",
        "        # covariance + a standard normal distribution\n",
        "        a = np.sqrt(mixGauss['cov'][:,:,h])*np.random.randn()\n",
        "        # just the mean\n",
        "        b = mixGauss['mean'][:,h]          \n",
        "        # adding these togeter to get the gaussian distribution with mean and variance                    \n",
        "        data[:, cData] = a+b\n",
        "        \n",
        "                                                                                              \n",
        "    return data                                                                                                  "
      ],
      "execution_count": null,
      "outputs": []
    },
    {
      "cell_type": "markdown",
      "metadata": {
        "id": "oJRKX7CJcHSq"
      },
      "source": [
        "With all the helper functions complete, we can now generate and plot some points from our model. The blue bars are the histogram of the generated points. The green curve is what the complete mixture of gaussians model looks like. The pink curves are the component gaussians. "
      ]
    },
    {
      "cell_type": "code",
      "metadata": {
        "colab": {
          "base_uri": "https://localhost:8080/",
          "height": 281
        },
        "id": "_rtwBh69cHSq",
        "outputId": "d868db4a-bd88-45f5-8d35-054be6983651"
      },
      "source": [
        "# define number of samples to generate\n",
        "nData = 400;\n",
        "\n",
        "#generate data from the mixture of Gaussians\n",
        "#make sure you've filled out the todo above! \n",
        "data = mixGaussGen1d(mixGaussTrue,nData)\n",
        "\n",
        "#plot! \n",
        "fig,ax = plt.subplots(1,1)\n",
        "drawEMData1d(data,mixGaussTrue)"
      ],
      "execution_count": null,
      "outputs": [
        {
          "output_type": "display_data",
          "data": {
            "image/png": "[encoded data removed]",
            "text/plain": [
              "<Figure size 432x288 with 1 Axes>"
            ]
          },
          "metadata": {
            "tags": [],
            "needs_background": "light"
          }
        }
      ]
    },
    {
      "cell_type": "markdown",
      "metadata": {
        "id": "MOqceMmN5RcQ"
      },
      "source": [
        "By looking at the bars in the chart, we can see how approximate the data fits the 2 gaussian distribution. "
      ]
    },
    {
      "cell_type": "markdown",
      "metadata": {
        "id": "95jDXInkcHSq"
      },
      "source": [
        "## Estimate MoG using the E-M Algorithm\n",
        "Here we want to use the E-M algorithm to fit a MoG model to our data points. \n",
        "\n",
        "**TODO E HERE:** \n",
        "\n",
        "Fill out the missing parts below. "
      ]
    },
    {
      "cell_type": "code",
      "metadata": {
        "id": "RWlmUeqecHSq"
      },
      "source": [
        "def getMixGaussBound(data, mixGaussEst, responsibilities):                                                  \n",
        "    \"\"\"\n",
        "    Calculate the bound on the log likelihood for the whole data set under a mixture of Gaussians model.  \n",
        "    \n",
        "    Keyword arguments:\n",
        "    data -- d by n matrix containing data points.\n",
        "    mixGaussEst -- dict containing the mixture of gaussians parameters.\n",
        "    responsibilities -- k by n vector containing the responsibility of this data point for each Gaussian. \n",
        "    \n",
        "    Returns: \n",
        "    bound -- scalar containing the bound on the log likelihood.\n",
        "    \n",
        "    \"\"\"\n",
        "    # find total number of data items                                                                       \n",
        "    nDims, nData = data.shape                                                                               \n",
        "                                                                                                            \n",
        "    # initialize bound                                                                                      \n",
        "    bound = 0                                                                                               \n",
        "    \n",
        "        \n",
        "    # run through each data item                                                                            \n",
        "    for cData in range(nData):                                                                              \n",
        "        # extract this data                                                                                 \n",
        "        thisData = data[:, cData]                                                                           \n",
        "        # extract this q(h)                                                                                 \n",
        "        thisQ = responsibilities[:, cData]                                                                  \n",
        "                                                                                                            \n",
        "        # TO DO (e) - calculate contribution to bound of this datapoint                                         \n",
        "        boundValue = 0                                                                        \n",
        "        for i in range (mixGaussEst['k']):\n",
        "            a = mixGaussEst['weight'][i]\n",
        "            b = getGaussProb(thisData,mixGaussEst['mean'][:,i],mixGaussEst['cov'][:,:,i])\n",
        "            c = np.log(a*b/thisQ[i])\n",
        "            boundValue += thisQ[i]*c\n",
        "            \n",
        "        # add to total log like                                                                             \n",
        "        bound = bound + boundValue                                                                          \n",
        "                                                                                                            \n",
        "    return np.asscalar(np.array(bound))                                                                          "
      ],
      "execution_count": null,
      "outputs": []
    },
    {
      "cell_type": "markdown",
      "metadata": {
        "id": "JzydWp9NcHSr"
      },
      "source": [
        "**TODO F HERE:** \n",
        "\n",
        "Fill out the missing parts below. \n",
        "\n",
        "The log likelihood is taken since the raw likelihood value could be too small for our machine's percision. "
      ]
    },
    {
      "cell_type": "code",
      "metadata": {
        "id": "feEuhz6ycHSr"
      },
      "source": [
        "def getMixGaussLogLike(data, mixGaussEst):\n",
        "    \"\"\"\n",
        "    Calculate the log likelihood for the whole dataset under a mixture of Gaussians model.\n",
        "    \n",
        "    Keyword arguments:\n",
        "    data -- d by n matrix containing data points.\n",
        "    mixGaussEst -- dict containing the mixture of gaussians parameters.\n",
        "\n",
        "    Returns: \n",
        "    logLike -- scalar containing the log likelihood.\n",
        "    \n",
        "    \"\"\"\n",
        "    data = np.atleast_2d(data)                                                                         \n",
        "    # find total number of data items                                                                  \n",
        "    nDims, nData = data.shape                                                                          \n",
        "    \n",
        "    # initialize log likelihoods                                                                       \n",
        "    logLike = 0;                                                                                       \n",
        "                                                                                                       \n",
        "    # run through each data item                                                                       \n",
        "    for cData in range(nData):                                                                         \n",
        "        thisData = data[:, cData]    \n",
        "        \n",
        "        # TO DO (f) - calculate likelihood of this data point under mixture of                         \n",
        "        # Gaussians model. Replace this \n",
        "        \n",
        "           \n",
        "        like=0                                    \n",
        "        for i in range (mixGaussEst['k']):\n",
        "          a = getGaussProb(thisData,mixGaussEst['mean'][:,i],mixGaussEst['cov'][:,:,i])\n",
        "          b = mixGaussEst['weight'][i]  \n",
        "          # sum of weighted probability Pr(x|h)\n",
        "          like += a*b\n",
        "                                                                                                       \n",
        "        # add to total log like                                                                        \n",
        "        logLike = logLike + np.log(like)                                                               \n",
        "                                                                                                       \n",
        "    return  np.asscalar(np.array(logLike))                                                                       \n",
        "                                                                                                       "
      ],
      "execution_count": null,
      "outputs": []
    },
    {
      "cell_type": "markdown",
      "metadata": {
        "id": "ywCD7n6ucHSr"
      },
      "source": [
        "**TODO G HERE:** \n",
        "\n",
        "Fill out the missing parts below. "
      ]
    },
    {
      "cell_type": "code",
      "metadata": {
        "id": "OfTPuHc4cHSr"
      },
      "source": [
        "def fitMixGauss1d(data, k):   \n",
        "    \"\"\"\n",
        "    Estimate a k MoG model that would fit the data. Incremently plots the outcome.\n",
        "               \n",
        "    \n",
        "    Keyword arguments:\n",
        "    data -- d by n matrix containing data points.\n",
        "    k -- scalar representing the number of gaussians to use in the MoG model.\n",
        "    \n",
        "    Returns: \n",
        "    mixGaussEst -- dict containing the estimated MoG parameters.\n",
        "    \n",
        "    \"\"\"\n",
        "    #     MAIN E-M ROUTINE  \n",
        "    #     In the E-M algorithm, we calculate a complete posterior distribution over                                  \n",
        "    #     the (nData) hidden variables in the E-Step.  \n",
        "    #     In the M-Step, we update the parameters of the Gaussians (mean, cov, w).   \n",
        "    \n",
        "    nDims, nData = data.shape                                                                                        \n",
        "                                                                                                                     \n",
        "                                                                                                      \n",
        "    responsibilities = np.zeros(shape=(k, nData))                                                                    \n",
        "                                                                                                                     \n",
        "    # we will initialize the values to random values                                                                 \n",
        "    mixGaussEst = dict()                                                                                             \n",
        "    mixGaussEst['d'] = 1                                                                                             \n",
        "    mixGaussEst['k'] = k                                                                                             \n",
        "    mixGaussEst['weight'] = (1 / k) * np.ones(shape=(k))                                                             \n",
        "    mixGaussEst['mean'] = 2 * np.random.randn(1, k)                                                                  \n",
        "    mixGaussEst['cov'] = 0.1 + 1.5*np.random.uniform(size=(1,1,2))                                                   \n",
        "                                                                                                                     \n",
        "    # calculate current likelihood                                                                                   \n",
        "    # TO DO (g) starts here- fill in this routine                                                                                   \n",
        "    logLike = getMixGaussLogLike(data, mixGaussEst)                                                                  \n",
        "    print('Log Likelihood Iter 0 : {:4.3f}\\n'.format(logLike))                                                       \n",
        "                                                                                                                     \n",
        "    nIter = 20;                                                                                                      \n",
        "                                                                                                                     \n",
        "    logLikeVec = np.zeros(shape=(2 * nIter))                                                                         \n",
        "    boundVec = np.zeros(shape=(2 * nIter)) \n",
        "    \n",
        "    fig,ax = plt.subplots(1,1)\n",
        "                                                                                                                     \n",
        "    for cIter in range(nIter):                                                                                       \n",
        "                                                                                                                     \n",
        "        # ===================== =====================                                                                \n",
        "        # Expectation step                                                                                           \n",
        "        # ===================== =====================                                                                \n",
        "        curCov = mixGaussEst['cov']                                                                                  \n",
        "        curWeight = mixGaussEst['weight']                                                                            \n",
        "        curMean = mixGaussEst['mean']                                                                                \n",
        "        for cData in range(nData):           \n",
        "            \n",
        "            # TO DO: fill in column of 'hidden' - caculate posterior probability that                                \n",
        "            # this data point came from each of the Gaussians                                                        \n",
        "            # replace this:                                                                                          \n",
        "            newData = data[:, cData]   \n",
        "            indiv = np.zeros((mixGaussEst['k'],1))\n",
        "            \n",
        "            for i in range(mixGaussEst['k']):\n",
        "                a = getGaussProb(newData,mixGaussEst['mean'][:,i],mixGaussEst['cov'][:,:,i])\n",
        "                b = mixGaussEst['weight'][i]\n",
        "                indiv[i] = a*b\n",
        "\n",
        "\n",
        "            # responsability of each data point\n",
        "            a = indiv/np.sum(indiv)\n",
        "            responsibilities[:, cData] = np.reshape(a,(mixGaussEst['k'],))\n",
        "\n",
        "\n",
        "        # calculate the log likelihood                                                                               \n",
        "        logLike = getMixGaussLogLike(data, mixGaussEst)                                                              \n",
        "        print('Log Likelihood After E-Step Iter {} : {:4.3f}\\n'.format(cIter, logLike))                              \n",
        "                                                                                                                     \n",
        "        # calculate the bound                                                                                        \n",
        "        # TO DO - Fill in this routine          \n",
        "        bound = getMixGaussBound(data, mixGaussEst, responsibilities)                                                \n",
        "        print('Bound After E-Step Iter {} : {:4.3f}\\n'.format(cIter, bound))     \n",
        "        \n",
        "        logLikeVec[2 * cIter] = logLike                                                                              \n",
        "        boundVec[2 * cIter] = bound                                                                                  \n",
        "        # ===================== =====================                                                                \n",
        "        # Maximization Step                                                                                          \n",
        "        # ===================== =====================                                                                \n",
        "        # for each constituent Gaussian                                                                              \n",
        "        for cGauss in range(k):                                                                                      \n",
        "            # TO DO:  Update weighting parameters mixGauss.weight based on the total                                 \n",
        "            # posterior probability associated with each Gaussian. Replace this:   \n",
        "            a = np.sum(responsibilities[cGauss,:])\n",
        "            b = np.sum(responsibilities)                               \n",
        "            mixGaussEst['weight'][cGauss] = a/b\n",
        "            \n",
        "                                                                                                                 \n",
        "            # TO DO:  Update mean parameters mixGauss.mean by weighted average                                       \n",
        "            # where weights are given by posterior probability associated with                                       \n",
        "            # Gaussian.  Replace this:     \n",
        "            c = np.sum(np.multiply(a, data))                        \n",
        "            mixGaussEst['mean'][:,cGauss] = c/a\n",
        "            \n",
        "            \n",
        "            # TO DO:  Update covarance parameter based on weighted average of                                        \n",
        "            # square distance from update mean, where weights are given by                                           \n",
        "            # posterior probability associated with Gaussian       \n",
        "            d = data - mixGaussEst['mean'][:,cGauss]\n",
        "            d = np.multiply(d,d) # multiply it with itself into a matrix    \n",
        "            e = np.sum(np.multiply(a,d))                                    \n",
        "            mixGaussEst['cov'][:,:,cGauss] = e/a\n",
        "            \n",
        "                                                                                                                     \n",
        "        # draw the new solution  \n",
        "        drawEMData1d(data, mixGaussEst)\n",
        "        time.sleep(0.7)\n",
        "        fig.canvas.draw()\n",
        "                                                                                                                     \n",
        "        # calculate the log likelihood                                                                               \n",
        "        logLike = getMixGaussLogLike(data, mixGaussEst)                                                              \n",
        "        print('Log Likelihood After M-Step Iter {} : {:4.3f}\\n'.format(cIter, logLike))                              \n",
        "                                                                                                                     \n",
        "        # calculate the bound                                                                                        \n",
        "        bound = getMixGaussBound(data, mixGaussEst, responsibilities)                                                \n",
        "        print('Bound After M-Step Iter {} : {:4.3f}\\n'.format(cIter, bound)) \n",
        "                                                                                                                  \n",
        "        logLikeVec[2 * cIter + 1] = logLike                                                                          \n",
        "        boundVec[2 * cIter + 1] = bound                                                                              \n",
        "                                                                                                                     \n",
        "    plt.figure()                                                                                                     \n",
        "    plt.plot(logLikeVec, 'g',label='log likelihood')                                                                                        \n",
        "    plt.plot(boundVec, 'r',label='upper bound')  \n",
        "    plt.legend()\n",
        "                                                                                                                     \n",
        "    return mixGaussEst                                                                                               "
      ],
      "execution_count": null,
      "outputs": []
    },
    {
      "cell_type": "markdown",
      "metadata": {
        "id": "cSQ72D5JcHSr"
      },
      "source": [
        "### Time to put it all together!\n",
        "\n",
        "Make sure you've filled all the TO DOs above! "
      ]
    },
    {
      "cell_type": "code",
      "metadata": {
        "id": "Y_CtfzvNcHSr",
        "colab": {
          "base_uri": "https://localhost:8080/",
          "height": 1000
        },
        "outputId": "27937e46-0b1f-4e5a-848a-9c4cdf6d9eb0"
      },
      "source": [
        "#generate data from the ground truth mixture of Gaussians we've defined way above. \n",
        "#make sure you've completed this routine above.\n",
        "data = mixGaussGen1d(mixGaussTrue,nData);\n",
        "\n",
        "#draw data, ground truth mixture of Gaussians.\n",
        "drawEMData1d(data,mixGaussTrue)\n",
        "\n",
        "#define number of components to estimate\n",
        "nGaussEst = 2;\n",
        "\n",
        "#fit mixture of Gaussians (Pretend someone handed you some data. Now what?)\n",
        "#Make sure you've completed this routine above.\n",
        "mixGaussEst = fitMixGauss1d(data,nGaussEst);\n",
        "#plt.show()"
      ],
      "execution_count": null,
      "outputs": [
        {
          "output_type": "stream",
          "text": [
            "/usr/local/lib/python3.7/dist-packages/ipykernel_launcher.py:38: DeprecationWarning: np.asscalar(a) is deprecated since NumPy v1.16, use a.item() instead\n",
            "/usr/local/lib/python3.7/dist-packages/ipykernel_launcher.py:39: DeprecationWarning: np.asscalar(a) is deprecated since NumPy v1.16, use a.item() instead\n"
          ],
          "name": "stderr"
        },
        {
          "output_type": "stream",
          "text": [
            "Log Likelihood Iter 0 : -4809.004\n",
            "\n",
            "Log Likelihood After E-Step Iter 0 : -4809.004\n",
            "\n",
            "Bound After E-Step Iter 0 : -4809.004\n",
            "\n"
          ],
          "name": "stdout"
        },
        {
          "output_type": "stream",
          "text": [
            "/usr/local/lib/python3.7/dist-packages/ipykernel_launcher.py:38: DeprecationWarning: np.asscalar(a) is deprecated since NumPy v1.16, use a.item() instead\n",
            "/usr/local/lib/python3.7/dist-packages/ipykernel_launcher.py:39: DeprecationWarning: np.asscalar(a) is deprecated since NumPy v1.16, use a.item() instead\n"
          ],
          "name": "stderr"
        },
        {
          "output_type": "stream",
          "text": [
            "Log Likelihood After M-Step Iter 0 : -3872.017\n",
            "\n",
            "Bound After M-Step Iter 0 : -3878.037\n",
            "\n",
            "Log Likelihood After E-Step Iter 1 : -3872.017\n",
            "\n",
            "Bound After E-Step Iter 1 : -3872.017\n",
            "\n"
          ],
          "name": "stdout"
        },
        {
          "output_type": "stream",
          "text": [
            "/usr/local/lib/python3.7/dist-packages/ipykernel_launcher.py:38: DeprecationWarning: np.asscalar(a) is deprecated since NumPy v1.16, use a.item() instead\n",
            "/usr/local/lib/python3.7/dist-packages/ipykernel_launcher.py:39: DeprecationWarning: np.asscalar(a) is deprecated since NumPy v1.16, use a.item() instead\n"
          ],
          "name": "stderr"
        },
        {
          "output_type": "stream",
          "text": [
            "Log Likelihood After M-Step Iter 1 : -3872.017\n",
            "\n",
            "Bound After M-Step Iter 1 : -3872.017\n",
            "\n",
            "Log Likelihood After E-Step Iter 2 : -3872.017\n",
            "\n",
            "Bound After E-Step Iter 2 : -3872.017\n",
            "\n"
          ],
          "name": "stdout"
        },
        {
          "output_type": "stream",
          "text": [
            "/usr/local/lib/python3.7/dist-packages/ipykernel_launcher.py:38: DeprecationWarning: np.asscalar(a) is deprecated since NumPy v1.16, use a.item() instead\n",
            "/usr/local/lib/python3.7/dist-packages/ipykernel_launcher.py:39: DeprecationWarning: np.asscalar(a) is deprecated since NumPy v1.16, use a.item() instead\n"
          ],
          "name": "stderr"
        },
        {
          "output_type": "stream",
          "text": [
            "Log Likelihood After M-Step Iter 2 : -3872.017\n",
            "\n",
            "Bound After M-Step Iter 2 : -3872.017\n",
            "\n",
            "Log Likelihood After E-Step Iter 3 : -3872.017\n",
            "\n",
            "Bound After E-Step Iter 3 : -3872.017\n",
            "\n"
          ],
          "name": "stdout"
        },
        {
          "output_type": "stream",
          "text": [
            "/usr/local/lib/python3.7/dist-packages/ipykernel_launcher.py:38: DeprecationWarning: np.asscalar(a) is deprecated since NumPy v1.16, use a.item() instead\n",
            "/usr/local/lib/python3.7/dist-packages/ipykernel_launcher.py:39: DeprecationWarning: np.asscalar(a) is deprecated since NumPy v1.16, use a.item() instead\n"
          ],
          "name": "stderr"
        },
        {
          "output_type": "stream",
          "text": [
            "Log Likelihood After M-Step Iter 3 : -3872.017\n",
            "\n",
            "Bound After M-Step Iter 3 : -3872.017\n",
            "\n",
            "Log Likelihood After E-Step Iter 4 : -3872.017\n",
            "\n",
            "Bound After E-Step Iter 4 : -3872.017\n",
            "\n"
          ],
          "name": "stdout"
        },
        {
          "output_type": "stream",
          "text": [
            "/usr/local/lib/python3.7/dist-packages/ipykernel_launcher.py:38: DeprecationWarning: np.asscalar(a) is deprecated since NumPy v1.16, use a.item() instead\n",
            "/usr/local/lib/python3.7/dist-packages/ipykernel_launcher.py:39: DeprecationWarning: np.asscalar(a) is deprecated since NumPy v1.16, use a.item() instead\n"
          ],
          "name": "stderr"
        },
        {
          "output_type": "stream",
          "text": [
            "Log Likelihood After M-Step Iter 4 : -3872.017\n",
            "\n",
            "Bound After M-Step Iter 4 : -3872.017\n",
            "\n",
            "Log Likelihood After E-Step Iter 5 : -3872.017\n",
            "\n",
            "Bound After E-Step Iter 5 : -3872.017\n",
            "\n"
          ],
          "name": "stdout"
        },
        {
          "output_type": "stream",
          "text": [
            "/usr/local/lib/python3.7/dist-packages/ipykernel_launcher.py:38: DeprecationWarning: np.asscalar(a) is deprecated since NumPy v1.16, use a.item() instead\n",
            "/usr/local/lib/python3.7/dist-packages/ipykernel_launcher.py:39: DeprecationWarning: np.asscalar(a) is deprecated since NumPy v1.16, use a.item() instead\n"
          ],
          "name": "stderr"
        },
        {
          "output_type": "stream",
          "text": [
            "Log Likelihood After M-Step Iter 5 : -3872.017\n",
            "\n",
            "Bound After M-Step Iter 5 : -3872.017\n",
            "\n",
            "Log Likelihood After E-Step Iter 6 : -3872.017\n",
            "\n",
            "Bound After E-Step Iter 6 : -3872.017\n",
            "\n"
          ],
          "name": "stdout"
        },
        {
          "output_type": "stream",
          "text": [
            "/usr/local/lib/python3.7/dist-packages/ipykernel_launcher.py:38: DeprecationWarning: np.asscalar(a) is deprecated since NumPy v1.16, use a.item() instead\n",
            "/usr/local/lib/python3.7/dist-packages/ipykernel_launcher.py:39: DeprecationWarning: np.asscalar(a) is deprecated since NumPy v1.16, use a.item() instead\n"
          ],
          "name": "stderr"
        },
        {
          "output_type": "stream",
          "text": [
            "Log Likelihood After M-Step Iter 6 : -3872.017\n",
            "\n",
            "Bound After M-Step Iter 6 : -3872.017\n",
            "\n",
            "Log Likelihood After E-Step Iter 7 : -3872.017\n",
            "\n",
            "Bound After E-Step Iter 7 : -3872.017\n",
            "\n"
          ],
          "name": "stdout"
        },
        {
          "output_type": "stream",
          "text": [
            "/usr/local/lib/python3.7/dist-packages/ipykernel_launcher.py:38: DeprecationWarning: np.asscalar(a) is deprecated since NumPy v1.16, use a.item() instead\n",
            "/usr/local/lib/python3.7/dist-packages/ipykernel_launcher.py:39: DeprecationWarning: np.asscalar(a) is deprecated since NumPy v1.16, use a.item() instead\n"
          ],
          "name": "stderr"
        },
        {
          "output_type": "stream",
          "text": [
            "Log Likelihood After M-Step Iter 7 : -3872.017\n",
            "\n",
            "Bound After M-Step Iter 7 : -3872.017\n",
            "\n",
            "Log Likelihood After E-Step Iter 8 : -3872.017\n",
            "\n",
            "Bound After E-Step Iter 8 : -3872.017\n",
            "\n"
          ],
          "name": "stdout"
        },
        {
          "output_type": "stream",
          "text": [
            "/usr/local/lib/python3.7/dist-packages/ipykernel_launcher.py:38: DeprecationWarning: np.asscalar(a) is deprecated since NumPy v1.16, use a.item() instead\n",
            "/usr/local/lib/python3.7/dist-packages/ipykernel_launcher.py:39: DeprecationWarning: np.asscalar(a) is deprecated since NumPy v1.16, use a.item() instead\n"
          ],
          "name": "stderr"
        },
        {
          "output_type": "stream",
          "text": [
            "Log Likelihood After M-Step Iter 8 : -3872.017\n",
            "\n",
            "Bound After M-Step Iter 8 : -3872.017\n",
            "\n",
            "Log Likelihood After E-Step Iter 9 : -3872.017\n",
            "\n",
            "Bound After E-Step Iter 9 : -3872.017\n",
            "\n"
          ],
          "name": "stdout"
        },
        {
          "output_type": "stream",
          "text": [
            "/usr/local/lib/python3.7/dist-packages/ipykernel_launcher.py:38: DeprecationWarning: np.asscalar(a) is deprecated since NumPy v1.16, use a.item() instead\n",
            "/usr/local/lib/python3.7/dist-packages/ipykernel_launcher.py:39: DeprecationWarning: np.asscalar(a) is deprecated since NumPy v1.16, use a.item() instead\n"
          ],
          "name": "stderr"
        },
        {
          "output_type": "stream",
          "text": [
            "Log Likelihood After M-Step Iter 9 : -3872.017\n",
            "\n",
            "Bound After M-Step Iter 9 : -3872.017\n",
            "\n",
            "Log Likelihood After E-Step Iter 10 : -3872.017\n",
            "\n",
            "Bound After E-Step Iter 10 : -3872.017\n",
            "\n"
          ],
          "name": "stdout"
        },
        {
          "output_type": "stream",
          "text": [
            "/usr/local/lib/python3.7/dist-packages/ipykernel_launcher.py:38: DeprecationWarning: np.asscalar(a) is deprecated since NumPy v1.16, use a.item() instead\n",
            "/usr/local/lib/python3.7/dist-packages/ipykernel_launcher.py:39: DeprecationWarning: np.asscalar(a) is deprecated since NumPy v1.16, use a.item() instead\n"
          ],
          "name": "stderr"
        },
        {
          "output_type": "stream",
          "text": [
            "Log Likelihood After M-Step Iter 10 : -3872.017\n",
            "\n",
            "Bound After M-Step Iter 10 : -3872.017\n",
            "\n",
            "Log Likelihood After E-Step Iter 11 : -3872.017\n",
            "\n",
            "Bound After E-Step Iter 11 : -3872.017\n",
            "\n"
          ],
          "name": "stdout"
        },
        {
          "output_type": "stream",
          "text": [
            "/usr/local/lib/python3.7/dist-packages/ipykernel_launcher.py:38: DeprecationWarning: np.asscalar(a) is deprecated since NumPy v1.16, use a.item() instead\n",
            "/usr/local/lib/python3.7/dist-packages/ipykernel_launcher.py:39: DeprecationWarning: np.asscalar(a) is deprecated since NumPy v1.16, use a.item() instead\n"
          ],
          "name": "stderr"
        },
        {
          "output_type": "stream",
          "text": [
            "Log Likelihood After M-Step Iter 11 : -3872.017\n",
            "\n",
            "Bound After M-Step Iter 11 : -3872.017\n",
            "\n",
            "Log Likelihood After E-Step Iter 12 : -3872.017\n",
            "\n",
            "Bound After E-Step Iter 12 : -3872.017\n",
            "\n"
          ],
          "name": "stdout"
        },
        {
          "output_type": "stream",
          "text": [
            "/usr/local/lib/python3.7/dist-packages/ipykernel_launcher.py:38: DeprecationWarning: np.asscalar(a) is deprecated since NumPy v1.16, use a.item() instead\n",
            "/usr/local/lib/python3.7/dist-packages/ipykernel_launcher.py:39: DeprecationWarning: np.asscalar(a) is deprecated since NumPy v1.16, use a.item() instead\n"
          ],
          "name": "stderr"
        },
        {
          "output_type": "stream",
          "text": [
            "Log Likelihood After M-Step Iter 12 : -3872.017\n",
            "\n",
            "Bound After M-Step Iter 12 : -3872.017\n",
            "\n",
            "Log Likelihood After E-Step Iter 13 : -3872.017\n",
            "\n",
            "Bound After E-Step Iter 13 : -3872.017\n",
            "\n"
          ],
          "name": "stdout"
        },
        {
          "output_type": "stream",
          "text": [
            "/usr/local/lib/python3.7/dist-packages/ipykernel_launcher.py:38: DeprecationWarning: np.asscalar(a) is deprecated since NumPy v1.16, use a.item() instead\n",
            "/usr/local/lib/python3.7/dist-packages/ipykernel_launcher.py:39: DeprecationWarning: np.asscalar(a) is deprecated since NumPy v1.16, use a.item() instead\n"
          ],
          "name": "stderr"
        },
        {
          "output_type": "stream",
          "text": [
            "Log Likelihood After M-Step Iter 13 : -3872.017\n",
            "\n",
            "Bound After M-Step Iter 13 : -3872.017\n",
            "\n",
            "Log Likelihood After E-Step Iter 14 : -3872.017\n",
            "\n",
            "Bound After E-Step Iter 14 : -3872.017\n",
            "\n"
          ],
          "name": "stdout"
        },
        {
          "output_type": "stream",
          "text": [
            "/usr/local/lib/python3.7/dist-packages/ipykernel_launcher.py:38: DeprecationWarning: np.asscalar(a) is deprecated since NumPy v1.16, use a.item() instead\n",
            "/usr/local/lib/python3.7/dist-packages/ipykernel_launcher.py:39: DeprecationWarning: np.asscalar(a) is deprecated since NumPy v1.16, use a.item() instead\n"
          ],
          "name": "stderr"
        },
        {
          "output_type": "stream",
          "text": [
            "Log Likelihood After M-Step Iter 14 : -3872.017\n",
            "\n",
            "Bound After M-Step Iter 14 : -3872.017\n",
            "\n",
            "Log Likelihood After E-Step Iter 15 : -3872.017\n",
            "\n",
            "Bound After E-Step Iter 15 : -3872.017\n",
            "\n"
          ],
          "name": "stdout"
        },
        {
          "output_type": "stream",
          "text": [
            "/usr/local/lib/python3.7/dist-packages/ipykernel_launcher.py:38: DeprecationWarning: np.asscalar(a) is deprecated since NumPy v1.16, use a.item() instead\n",
            "/usr/local/lib/python3.7/dist-packages/ipykernel_launcher.py:39: DeprecationWarning: np.asscalar(a) is deprecated since NumPy v1.16, use a.item() instead\n"
          ],
          "name": "stderr"
        },
        {
          "output_type": "stream",
          "text": [
            "Log Likelihood After M-Step Iter 15 : -3872.017\n",
            "\n",
            "Bound After M-Step Iter 15 : -3872.017\n",
            "\n",
            "Log Likelihood After E-Step Iter 16 : -3872.017\n",
            "\n",
            "Bound After E-Step Iter 16 : -3872.017\n",
            "\n"
          ],
          "name": "stdout"
        },
        {
          "output_type": "stream",
          "text": [
            "/usr/local/lib/python3.7/dist-packages/ipykernel_launcher.py:38: DeprecationWarning: np.asscalar(a) is deprecated since NumPy v1.16, use a.item() instead\n",
            "/usr/local/lib/python3.7/dist-packages/ipykernel_launcher.py:39: DeprecationWarning: np.asscalar(a) is deprecated since NumPy v1.16, use a.item() instead\n"
          ],
          "name": "stderr"
        },
        {
          "output_type": "stream",
          "text": [
            "Log Likelihood After M-Step Iter 16 : -3872.017\n",
            "\n",
            "Bound After M-Step Iter 16 : -3872.017\n",
            "\n",
            "Log Likelihood After E-Step Iter 17 : -3872.017\n",
            "\n",
            "Bound After E-Step Iter 17 : -3872.017\n",
            "\n"
          ],
          "name": "stdout"
        },
        {
          "output_type": "stream",
          "text": [
            "/usr/local/lib/python3.7/dist-packages/ipykernel_launcher.py:38: DeprecationWarning: np.asscalar(a) is deprecated since NumPy v1.16, use a.item() instead\n",
            "/usr/local/lib/python3.7/dist-packages/ipykernel_launcher.py:39: DeprecationWarning: np.asscalar(a) is deprecated since NumPy v1.16, use a.item() instead\n"
          ],
          "name": "stderr"
        },
        {
          "output_type": "stream",
          "text": [
            "Log Likelihood After M-Step Iter 17 : -3872.017\n",
            "\n",
            "Bound After M-Step Iter 17 : -3872.017\n",
            "\n",
            "Log Likelihood After E-Step Iter 18 : -3872.017\n",
            "\n",
            "Bound After E-Step Iter 18 : -3872.017\n",
            "\n"
          ],
          "name": "stdout"
        },
        {
          "output_type": "stream",
          "text": [
            "/usr/local/lib/python3.7/dist-packages/ipykernel_launcher.py:38: DeprecationWarning: np.asscalar(a) is deprecated since NumPy v1.16, use a.item() instead\n",
            "/usr/local/lib/python3.7/dist-packages/ipykernel_launcher.py:39: DeprecationWarning: np.asscalar(a) is deprecated since NumPy v1.16, use a.item() instead\n"
          ],
          "name": "stderr"
        },
        {
          "output_type": "stream",
          "text": [
            "Log Likelihood After M-Step Iter 18 : -3872.017\n",
            "\n",
            "Bound After M-Step Iter 18 : -3872.017\n",
            "\n",
            "Log Likelihood After E-Step Iter 19 : -3872.017\n",
            "\n",
            "Bound After E-Step Iter 19 : -3872.017\n",
            "\n"
          ],
          "name": "stdout"
        },
        {
          "output_type": "stream",
          "text": [
            "/usr/local/lib/python3.7/dist-packages/ipykernel_launcher.py:38: DeprecationWarning: np.asscalar(a) is deprecated since NumPy v1.16, use a.item() instead\n",
            "/usr/local/lib/python3.7/dist-packages/ipykernel_launcher.py:39: DeprecationWarning: np.asscalar(a) is deprecated since NumPy v1.16, use a.item() instead\n"
          ],
          "name": "stderr"
        },
        {
          "output_type": "stream",
          "text": [
            "Log Likelihood After M-Step Iter 19 : -3872.017\n",
            "\n",
            "Bound After M-Step Iter 19 : -3872.017\n",
            "\n"
          ],
          "name": "stdout"
        },
        {
          "output_type": "display_data",
          "data": {
            "image/png": "[encoded data removed]",
            "text/plain": [
              "<Figure size 432x288 with 1 Axes>"
            ]
          },
          "metadata": {
            "tags": [],
            "needs_background": "light"
          }
        },
        {
          "output_type": "display_data",
          "data": {
            "image/png": "[encoded data removed]",
            "text/plain": [
              "<Figure size 432x288 with 1 Axes>"
            ]
          },
          "metadata": {
            "tags": [],
            "needs_background": "light"
          }
        },
        {
          "output_type": "display_data",
          "data": {
            "image/png": "[encoded data removed]",
            "text/plain": [
              "<Figure size 432x288 with 1 Axes>"
            ]
          },
          "metadata": {
            "tags": [],
            "needs_background": "light"
          }
        }
      ]
    },
    {
      "cell_type": "markdown",
      "metadata": {
        "id": "EpTFCYroAVUY"
      },
      "source": [
        "The first chart as in the TODO D, we can see how approximate the data fits the 2 gaussian distribution.\n",
        "\n"
      ]
    }
  ]
}